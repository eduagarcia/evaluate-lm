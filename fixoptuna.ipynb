{
 "cells": [
  {
   "cell_type": "code",
   "execution_count": 11,
   "id": "b411d029-00c9-458d-95a1-8ddba20e923f",
   "metadata": {},
   "outputs": [],
   "source": [
    "optuna_param_path = \"hypsearch/ner/config.json\"\n",
    "hparam_path = \"hypsearch/ner/hparams-cnj-focus-v1.json\"\n",
    "study_to_fix = \"cnj_ner_focus_v1\""
   ]
  },
  {
   "cell_type": "code",
   "execution_count": 21,
   "id": "2c0ce07e-6708-432b-b0bb-b7ca8db794f3",
   "metadata": {},
   "outputs": [
    {
     "name": "stderr",
     "output_type": "stream",
     "text": [
      "<ipython-input-21-988298360049>:9: ExperimentalWarning: RetryFailedTrialCallback is experimental (supported from v2.8.0). The interface can change in the future.\n",
      "  failed_trial_callback=RetryFailedTrialCallback(max_retry=None)\n",
      "<ipython-input-21-988298360049>:11: FutureWarning: load_study(): Please give all values as keyword arguments. See https://github.com/optuna/optuna/issues/3324 for details.\n",
      "  old_study = optuna.study.load_study(study_to_fix, storage=storage)\n"
     ]
    }
   ],
   "source": [
    "import optuna\n",
    "import os\n",
    "import json\n",
    "from optuna import Trial\n",
    "from optuna.storages import RetryFailedTrialCallback\n",
    "from optuna.trial import TrialState\n",
    "storage = optuna.storages.RDBStorage(\n",
    "    url='sqlite:////workspace/models/evaluate_lm_tese/db.sqlite3',\n",
    "    failed_trial_callback=RetryFailedTrialCallback(max_retry=None)\n",
    ")\n",
    "old_study = optuna.study.load_study(study_to_fix, storage=storage)"
   ]
  },
  {
   "cell_type": "code",
   "execution_count": 13,
   "id": "188adf97-303f-40cb-be51-29564d1df72b",
   "metadata": {},
   "outputs": [],
   "source": [
    "old_trials = old_study.get_trials(deepcopy=False)"
   ]
  },
  {
   "cell_type": "code",
   "execution_count": 14,
   "id": "3ee3f435-9687-4eb1-a6cf-425ec60dbba6",
   "metadata": {},
   "outputs": [],
   "source": [
    "if optuna_param_path is not None and os.path.isfile(optuna_param_path):\n",
    "    optuna_config = json.load(open(optuna_param_path))\n",
    "else:\n",
    "    optuna_config = {}\n",
    "\n",
    "if \"pruner\" in optuna_config:\n",
    "    pruner_class = getattr(optuna.pruners, optuna_config[\"pruner\"][\"type\"])\n",
    "    pruner = pruner_class(**optuna_config[\"pruner\"].get(\"attributes\", {}))\n",
    "else:\n",
    "    pruner = None\n",
    "\n",
    "if \"sampler\" in optuna_config:\n",
    "    sampler_class = getattr(optuna.samplers, optuna_config[\"sampler\"][\"type\"])\n",
    "    attributes = optuna_config[\"sampler\"].get(\"attributes\", {})\n",
    "    if optuna_config[\"sampler\"][\"type\"] == \"GridSampler\": \n",
    "        n_trials = None  \n",
    "        for hparam in json.load(open(hparam_path)):\n",
    "            if hparam[\"type\"] != 'categorical':\n",
    "                raise Exception(f\"{hparam['type']} type selected for hyperparameter {hparam['attributes']['name']}, GridSampler only supports categorical hparams\")\n",
    "            attributes[hparam[\"attributes\"][\"name\"]] = hparam[\"attributes\"][\"choices\"]            \n",
    "    sampler = sampler_class(attributes)\n",
    "else:\n",
    "        sampler = None"
   ]
  },
  {
   "cell_type": "code",
   "execution_count": null,
   "id": "483dfdb0-3208-4c80-93c9-ae624d0056d4",
   "metadata": {},
   "outputs": [],
   "source": [
    "optuna.study.delete_study(study_to_fix, storage=storage)"
   ]
  },
  {
   "cell_type": "code",
   "execution_count": 9,
   "id": "443890a3-950d-4088-874c-9d9263cef596",
   "metadata": {},
   "outputs": [
    {
     "name": "stderr",
     "output_type": "stream",
     "text": [
      "\u001b[32m[I 2023-07-29 20:00:01,970]\u001b[0m A new study created in RDB with name: cnj_ner_focus_v1_retry\u001b[0m\n"
     ]
    }
   ],
   "source": [
    "correct_trials = []\n",
    "for trial in old_trials:\n",
    "    if trial.state == TrialState.COMPLETE:\n",
    "        correct_trials.append(optuna.trial.create_trial(\n",
    "            params=trial.params,\n",
    "            distributions=trial.distributions,\n",
    "            value=trial.value\n",
    "        ))\n",
    "        \n",
    "new_study = optuna.create_study(\n",
    "        study_name=study_to_fix,\n",
    "        direction='maximize',\n",
    "        storage=storage,\n",
    "        pruner=pruner,\n",
    "        sampler=sampler,\n",
    "        load_if_exists=False\n",
    ")\n",
    "new_study.add_trials(correct_trials)"
   ]
  }
 ],
 "metadata": {
  "kernelspec": {
   "display_name": "Python 3",
   "language": "python",
   "name": "python3"
  },
  "language_info": {
   "codemirror_mode": {
    "name": "ipython",
    "version": 3
   },
   "file_extension": ".py",
   "mimetype": "text/x-python",
   "name": "python",
   "nbconvert_exporter": "python",
   "pygments_lexer": "ipython3",
   "version": "3.8.13"
  }
 },
 "nbformat": 4,
 "nbformat_minor": 5
}
